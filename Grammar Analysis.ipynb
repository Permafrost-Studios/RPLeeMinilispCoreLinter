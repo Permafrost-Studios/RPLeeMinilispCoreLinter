{
 "cells": [
  {
   "metadata": {},
   "cell_type": "markdown",
   "source": [
    "# MiniLisp Grammar LL(1) Analysis\n",
    "\n",
    "This notebook analyses the MiniLisp grammar to verify it satisfies the LL(1) property.\n",
    "\n",
    "Confirm predictive parsing:\n",
    "* [x] FIRST set\n",
    "* [x] FOLLOW set\n",
    "* [x] Parse table\n",
    "\n",
    "---\n",
    "\n",
    "**Grammar:**\n",
    "```\n",
    "<program> ::= <expr>\n",
    "<expr> ::= NUMBER\n",
    "| IDENTIFIER\n",
    "| '(' <paren-expr> ')'\n",
    "<paren-expr> ::= '+' <expr> <expr>\n",
    "| '×' <expr> <expr>\n",
    "| '=' <expr> <expr>\n",
    "| '−' <expr> <expr>\n",
    "| '?' <expr> <expr> <expr>\n",
    "| 'λ' IDENTIFIER <expr>\n",
    "| '≜' IDENTIFIER <expr> <expr>\n",
    "| <expr> <expr>*\n",
    "```"
   ],
   "id": "e18dc177a9ecb1c6"
  },
  {
   "cell_type": "code",
   "id": "initial_id",
   "metadata": {
    "collapsed": true,
    "ExecuteTime": {
     "end_time": "2025-10-11T08:32:42.424854Z",
     "start_time": "2025-10-11T08:32:42.420110Z"
    }
   },
   "source": [
    "grammar = {\n",
    "    '<program>': [['<expr>']],\n",
    "    '<expr>': [['NUMBER'], ['IDENTIFIER'], ['(', '<parent-expr>', ')']],\n",
    "    '<parent-expr>': [\n",
    "        ['+', '<expr>', '<expr>'],\n",
    "        ['×', '<expr>', '<expr>'],\n",
    "        ['=', '<expr>', '<expr>'],\n",
    "        ['-', '<expr>', '<expr>'],\n",
    "        ['?', '<expr>', '<expr>', '<expr>'],\n",
    "        ['λ', 'IDENTIFIER', '<expr>'],\n",
    "        ['≜', 'IDENTIFIER', '<expr>', '<expr>'],\n",
    "        ['<expr>', '<expr>*']\n",
    "    ]\n",
    "}\n",
    "\n",
    "terminals = {'NUMBER', 'IDENTIFIER', '+', '×', '=', '-', '?', 'λ', '≜', '(', ')', '$'}\n",
    "non_terminals = set(grammar.keys())"
   ],
   "outputs": [],
   "execution_count": 3
  },
  {
   "metadata": {
    "ExecuteTime": {
     "end_time": "2025-10-11T08:32:42.511873Z",
     "start_time": "2025-10-11T08:32:42.494147Z"
    }
   },
   "cell_type": "code",
   "source": [
    "FIRST = {nt: set() for nt in non_terminals}\n",
    "\n",
    "changed = True\n",
    "\n",
    "while changed:\n",
    "    changed = False\n",
    "\n",
    "    for nt in non_terminals:\n",
    "        for production in grammar[nt]:\n",
    "            can_be_empty = True\n",
    "\n",
    "            for token in production:\n",
    "                if token in terminals:\n",
    "                    before = len(FIRST[nt])\n",
    "\n",
    "                    FIRST[nt].add(token)\n",
    "\n",
    "                    if len(FIRST[nt]) != before:\n",
    "                        changed = True\n",
    "\n",
    "                    can_be_empty = False\n",
    "                    break\n",
    "                elif token in non_terminals:\n",
    "                    before = len(FIRST[nt])\n",
    "                    FIRST[nt] |= (FIRST[token] - {'ε'})\n",
    "\n",
    "                    if len (FIRST[nt]) != before:\n",
    "                        changed = True\n",
    "\n",
    "                    if 'ε' not in FIRST[token]:\n",
    "                        can_be_empty = False\n",
    "                        break\n",
    "\n",
    "            if can_be_empty:\n",
    "                before = len(FIRST[nt])\n",
    "                FIRST[nt].add('ε')\n",
    "\n",
    "                if len(FIRST[nt]) != before:\n",
    "                    changed = True\n",
    "\n",
    "FIRST"
   ],
   "id": "3405027ac88ab454",
   "outputs": [
    {
     "data": {
      "text/plain": [
       "{'<parent-expr>': {'(',\n",
       "  '+',\n",
       "  '-',\n",
       "  '=',\n",
       "  '?',\n",
       "  'IDENTIFIER',\n",
       "  'NUMBER',\n",
       "  '×',\n",
       "  'λ',\n",
       "  '≜'},\n",
       " '<program>': {'(', 'IDENTIFIER', 'NUMBER'},\n",
       " '<expr>': {'(', 'IDENTIFIER', 'NUMBER'}}"
      ]
     },
     "execution_count": 4,
     "metadata": {},
     "output_type": "execute_result"
    }
   ],
   "execution_count": 4
  },
  {
   "metadata": {
    "ExecuteTime": {
     "end_time": "2025-10-11T08:32:42.600514Z",
     "start_time": "2025-10-11T08:32:42.595762Z"
    }
   },
   "cell_type": "code",
   "source": [
    "for nt, s in FIRST.items():\n",
    "    print(f'{nt}: {s}')"
   ],
   "id": "29b184ee1fdd9406",
   "outputs": [
    {
     "name": "stdout",
     "output_type": "stream",
     "text": [
      "<parent-expr>: {'-', '≜', 'IDENTIFIER', '?', 'NUMBER', '(', '=', '×', 'λ', '+'}\n",
      "<program>: {'(', 'IDENTIFIER', 'NUMBER'}\n",
      "<expr>: {'(', 'NUMBER', 'IDENTIFIER'}\n"
     ]
    }
   ],
   "execution_count": 5
  },
  {
   "metadata": {
    "ExecuteTime": {
     "end_time": "2025-10-11T08:32:42.664638Z",
     "start_time": "2025-10-11T08:32:42.647295Z"
    }
   },
   "cell_type": "code",
   "source": [
    "FOLLOW = {nt: set() for nt in non_terminals}\n",
    "FOLLOW['<program>'].add('$')\n",
    "\n",
    "changed = True\n",
    "while changed:\n",
    "    changed = False\n",
    "\n",
    "    for head, productions in grammar.items():\n",
    "        for body in productions:\n",
    "            for i, B in enumerate(body):\n",
    "                if B in non_terminals:\n",
    "                    beta = body[i + 1:]\n",
    "\n",
    "                    if beta:\n",
    "                        first_beta = set()\n",
    "                        can_be_empty = True\n",
    "\n",
    "                        for sym in beta:\n",
    "                            sym_first = FIRST[sym] if sym in FIRST else {sym}\n",
    "\n",
    "                            first_beta |= (sym_first - {'ε'})\n",
    "                            if 'ε' not in sym_first:\n",
    "                                can_be_empty = False\n",
    "                                break\n",
    "\n",
    "                        if can_be_empty:\n",
    "                            first_beta.add('ε')\n",
    "\n",
    "                        before = len(FOLLOW[B])\n",
    "                        FOLLOW[B] |= (first_beta - {'ε'})\n",
    "\n",
    "                        if 'ε' in first_beta:\n",
    "                            FOLLOW[B] |= FOLLOW[head]\n",
    "\n",
    "                        if len(FOLLOW[B]) != before:\n",
    "                            changed = True\n",
    "                    else:\n",
    "                        before = len(FOLLOW[B])\n",
    "                        FOLLOW[B] |= FOLLOW[head]\n",
    "\n",
    "                        if len(FOLLOW[B]) != before:\n",
    "                            changed = True\n",
    "\n",
    "FOLLOW\n"
   ],
   "id": "b4d743f5f78289e7",
   "outputs": [
    {
     "data": {
      "text/plain": [
       "{'<parent-expr>': {')'},\n",
       " '<program>': {'$'},\n",
       " '<expr>': {'$', '(', ')', '<expr>*', 'IDENTIFIER', 'NUMBER'}}"
      ]
     },
     "execution_count": 6,
     "metadata": {},
     "output_type": "execute_result"
    }
   ],
   "execution_count": 6
  },
  {
   "metadata": {
    "ExecuteTime": {
     "end_time": "2025-10-11T08:32:42.712259Z",
     "start_time": "2025-10-11T08:32:42.704318Z"
    }
   },
   "cell_type": "code",
   "source": [
    "for nt, s in FOLLOW.items():\n",
    "    print(f'{nt}: {s}')"
   ],
   "id": "3ca8a909d2b898e2",
   "outputs": [
    {
     "name": "stdout",
     "output_type": "stream",
     "text": [
      "<parent-expr>: {')'}\n",
      "<program>: {'$'}\n",
      "<expr>: {')', 'IDENTIFIER', 'NUMBER', '$', '(', '<expr>*'}\n"
     ]
    }
   ],
   "execution_count": 7
  },
  {
   "metadata": {
    "ExecuteTime": {
     "end_time": "2025-10-11T08:32:42.766917Z",
     "start_time": "2025-10-11T08:32:42.760856Z"
    }
   },
   "cell_type": "code",
   "source": [
    "parse_table = {nt: {} for nt in non_terminals}\n",
    "\n",
    "conflicts = []\n",
    "\n",
    "for A, productions in grammar.items():\n",
    "    for alpha in productions:\n",
    "        first_set = set()\n",
    "        can_be_empty = True\n",
    "\n",
    "        for sym in alpha:\n",
    "            if sym in terminals:\n",
    "                first_set.add(sym)\n",
    "                can_be_empty = False\n",
    "                break\n",
    "\n",
    "            else:\n",
    "                first_set |= (FIRST[sym] - {'ε'})\n",
    "                if 'ε' not in FIRST[sym]:\n",
    "                    can_be_empty = False\n",
    "                    break\n",
    "\n",
    "        if can_be_empty:\n",
    "            first_set.add('ε')\n",
    "\n",
    "        for a in first_set - {'ε'}:\n",
    "            if a in parse_table[A]:\n",
    "                conflicts.append((A, a, parse_table[A][a], alpha))\n",
    "\n",
    "            parse_table[A][a] = alpha\n",
    "\n",
    "        if 'ε' in first_set:\n",
    "            for b in FOLLOW[A]:\n",
    "                if b in parse_table[A]:\n",
    "                    conflicts.append((A, b, parse_table[A][b], alpha))\n",
    "\n",
    "                parse_table[A][b] = alpha\n",
    "\n",
    "for nt in parse_table:\n",
    "    print(f\"\\nNon-Terminal: {nt}\")\n",
    "\n",
    "    for t, rule in parse_table[nt].items():\n",
    "        print(f\"  M[{nt}, {t}] = {rule}\")\n"
   ],
   "id": "73ca6183b7951c31",
   "outputs": [
    {
     "name": "stdout",
     "output_type": "stream",
     "text": [
      "\n",
      "Non-Terminal: <parent-expr>\n",
      "  M[<parent-expr>, +] = ['+', '<expr>', '<expr>']\n",
      "  M[<parent-expr>, ×] = ['×', '<expr>', '<expr>']\n",
      "  M[<parent-expr>, =] = ['=', '<expr>', '<expr>']\n",
      "  M[<parent-expr>, -] = ['-', '<expr>', '<expr>']\n",
      "  M[<parent-expr>, ?] = ['?', '<expr>', '<expr>', '<expr>']\n",
      "  M[<parent-expr>, λ] = ['λ', 'IDENTIFIER', '<expr>']\n",
      "  M[<parent-expr>, ≜] = ['≜', 'IDENTIFIER', '<expr>', '<expr>']\n",
      "  M[<parent-expr>, (] = ['<expr>', '<expr>*']\n",
      "  M[<parent-expr>, NUMBER] = ['<expr>', '<expr>*']\n",
      "  M[<parent-expr>, IDENTIFIER] = ['<expr>', '<expr>*']\n",
      "\n",
      "Non-Terminal: <program>\n",
      "  M[<program>, (] = ['<expr>']\n",
      "  M[<program>, NUMBER] = ['<expr>']\n",
      "  M[<program>, IDENTIFIER] = ['<expr>']\n",
      "\n",
      "Non-Terminal: <expr>\n",
      "  M[<expr>, NUMBER] = ['NUMBER']\n",
      "  M[<expr>, IDENTIFIER] = ['IDENTIFIER']\n",
      "  M[<expr>, (] = ['(', '<parent-expr>', ')']\n"
     ]
    }
   ],
   "execution_count": 8
  },
  {
   "metadata": {
    "ExecuteTime": {
     "end_time": "2025-10-11T08:32:43.436329Z",
     "start_time": "2025-10-11T08:32:42.811484Z"
    }
   },
   "cell_type": "code",
   "source": "!pip install pandas",
   "id": "14e9bbc9988088a2",
   "outputs": [
    {
     "name": "stdout",
     "output_type": "stream",
     "text": [
      "Requirement already satisfied: pandas in ./.venv/lib/python3.13/site-packages (2.3.3)\r\n",
      "Requirement already satisfied: numpy>=1.26.0 in ./.venv/lib/python3.13/site-packages (from pandas) (2.3.3)\r\n",
      "Requirement already satisfied: python-dateutil>=2.8.2 in ./.venv/lib/python3.13/site-packages (from pandas) (2.9.0.post0)\r\n",
      "Requirement already satisfied: pytz>=2020.1 in ./.venv/lib/python3.13/site-packages (from pandas) (2025.2)\r\n",
      "Requirement already satisfied: tzdata>=2022.7 in ./.venv/lib/python3.13/site-packages (from pandas) (2025.2)\r\n",
      "Requirement already satisfied: six>=1.5 in ./.venv/lib/python3.13/site-packages (from python-dateutil>=2.8.2->pandas) (1.17.0)\r\n",
      "\r\n",
      "\u001B[1m[\u001B[0m\u001B[34;49mnotice\u001B[0m\u001B[1;39;49m]\u001B[0m\u001B[39;49m A new release of pip is available: \u001B[0m\u001B[31;49m24.3.1\u001B[0m\u001B[39;49m -> \u001B[0m\u001B[32;49m25.2\u001B[0m\r\n",
      "\u001B[1m[\u001B[0m\u001B[34;49mnotice\u001B[0m\u001B[1;39;49m]\u001B[0m\u001B[39;49m To update, run: \u001B[0m\u001B[32;49mpip install --upgrade pip\u001B[0m\r\n"
     ]
    }
   ],
   "execution_count": 9
  },
  {
   "metadata": {
    "ExecuteTime": {
     "end_time": "2025-10-11T08:32:43.453029Z",
     "start_time": "2025-10-11T08:32:43.443616Z"
    }
   },
   "cell_type": "code",
   "source": [
    "import pandas as pd\n",
    "\n",
    "all_terminals = set()\n",
    "\n",
    "for entries in parse_table.values():\n",
    "    all_terminals.update(entries.keys())\n",
    "\n",
    "sorted_terminals = sorted(all_terminals)\n",
    "\n",
    "table_data = {}\n",
    "\n",
    "for terminal in sorted_terminals:\n",
    "    column = []\n",
    "    for nt in non_terminals:\n",
    "        if terminal in parse_table[nt]:\n",
    "            rule = parse_table[nt][terminal]\n",
    "\n",
    "            formatted_rule = f\"{nt} → {' '.join(rule)}\"\n",
    "            column.append(formatted_rule)\n",
    "        else:\n",
    "            column.append('')\n",
    "\n",
    "    table_data[terminal] = column\n",
    "\n",
    "df = pd.DataFrame(table_data, index=sorted(non_terminals))\n",
    "df"
   ],
   "id": "d415307b94e386f9",
   "outputs": [
    {
     "data": {
      "text/plain": [
       "                                            (  \\\n",
       "<expr>         <parent-expr> → <expr> <expr>*   \n",
       "<parent-expr>              <program> → <expr>   \n",
       "<program>          <expr> → ( <parent-expr> )   \n",
       "\n",
       "                                             +  \\\n",
       "<expr>         <parent-expr> → + <expr> <expr>   \n",
       "<parent-expr>                                    \n",
       "<program>                                        \n",
       "\n",
       "                                             -  \\\n",
       "<expr>         <parent-expr> → - <expr> <expr>   \n",
       "<parent-expr>                                    \n",
       "<program>                                        \n",
       "\n",
       "                                             =  \\\n",
       "<expr>         <parent-expr> → = <expr> <expr>   \n",
       "<parent-expr>                                    \n",
       "<program>                                        \n",
       "\n",
       "                                                    ?  \\\n",
       "<expr>         <parent-expr> → ? <expr> <expr> <expr>   \n",
       "<parent-expr>                                           \n",
       "<program>                                               \n",
       "\n",
       "                                   IDENTIFIER                          NUMBER  \\\n",
       "<expr>         <parent-expr> → <expr> <expr>*  <parent-expr> → <expr> <expr>*   \n",
       "<parent-expr>              <program> → <expr>              <program> → <expr>   \n",
       "<program>                 <expr> → IDENTIFIER                 <expr> → NUMBER   \n",
       "\n",
       "                                             ×  \\\n",
       "<expr>         <parent-expr> → × <expr> <expr>   \n",
       "<parent-expr>                                    \n",
       "<program>                                        \n",
       "\n",
       "                                                 λ  \\\n",
       "<expr>         <parent-expr> → λ IDENTIFIER <expr>   \n",
       "<parent-expr>                                        \n",
       "<program>                                            \n",
       "\n",
       "                                                        ≜  \n",
       "<expr>         <parent-expr> → ≜ IDENTIFIER <expr> <expr>  \n",
       "<parent-expr>                                              \n",
       "<program>                                                  "
      ],
      "text/html": [
       "<div>\n",
       "<style scoped>\n",
       "    .dataframe tbody tr th:only-of-type {\n",
       "        vertical-align: middle;\n",
       "    }\n",
       "\n",
       "    .dataframe tbody tr th {\n",
       "        vertical-align: top;\n",
       "    }\n",
       "\n",
       "    .dataframe thead th {\n",
       "        text-align: right;\n",
       "    }\n",
       "</style>\n",
       "<table border=\"1\" class=\"dataframe\">\n",
       "  <thead>\n",
       "    <tr style=\"text-align: right;\">\n",
       "      <th></th>\n",
       "      <th>(</th>\n",
       "      <th>+</th>\n",
       "      <th>-</th>\n",
       "      <th>=</th>\n",
       "      <th>?</th>\n",
       "      <th>IDENTIFIER</th>\n",
       "      <th>NUMBER</th>\n",
       "      <th>×</th>\n",
       "      <th>λ</th>\n",
       "      <th>≜</th>\n",
       "    </tr>\n",
       "  </thead>\n",
       "  <tbody>\n",
       "    <tr>\n",
       "      <th>&lt;expr&gt;</th>\n",
       "      <td>&lt;parent-expr&gt; → &lt;expr&gt; &lt;expr&gt;*</td>\n",
       "      <td>&lt;parent-expr&gt; → + &lt;expr&gt; &lt;expr&gt;</td>\n",
       "      <td>&lt;parent-expr&gt; → - &lt;expr&gt; &lt;expr&gt;</td>\n",
       "      <td>&lt;parent-expr&gt; → = &lt;expr&gt; &lt;expr&gt;</td>\n",
       "      <td>&lt;parent-expr&gt; → ? &lt;expr&gt; &lt;expr&gt; &lt;expr&gt;</td>\n",
       "      <td>&lt;parent-expr&gt; → &lt;expr&gt; &lt;expr&gt;*</td>\n",
       "      <td>&lt;parent-expr&gt; → &lt;expr&gt; &lt;expr&gt;*</td>\n",
       "      <td>&lt;parent-expr&gt; → × &lt;expr&gt; &lt;expr&gt;</td>\n",
       "      <td>&lt;parent-expr&gt; → λ IDENTIFIER &lt;expr&gt;</td>\n",
       "      <td>&lt;parent-expr&gt; → ≜ IDENTIFIER &lt;expr&gt; &lt;expr&gt;</td>\n",
       "    </tr>\n",
       "    <tr>\n",
       "      <th>&lt;parent-expr&gt;</th>\n",
       "      <td>&lt;program&gt; → &lt;expr&gt;</td>\n",
       "      <td></td>\n",
       "      <td></td>\n",
       "      <td></td>\n",
       "      <td></td>\n",
       "      <td>&lt;program&gt; → &lt;expr&gt;</td>\n",
       "      <td>&lt;program&gt; → &lt;expr&gt;</td>\n",
       "      <td></td>\n",
       "      <td></td>\n",
       "      <td></td>\n",
       "    </tr>\n",
       "    <tr>\n",
       "      <th>&lt;program&gt;</th>\n",
       "      <td>&lt;expr&gt; → ( &lt;parent-expr&gt; )</td>\n",
       "      <td></td>\n",
       "      <td></td>\n",
       "      <td></td>\n",
       "      <td></td>\n",
       "      <td>&lt;expr&gt; → IDENTIFIER</td>\n",
       "      <td>&lt;expr&gt; → NUMBER</td>\n",
       "      <td></td>\n",
       "      <td></td>\n",
       "      <td></td>\n",
       "    </tr>\n",
       "  </tbody>\n",
       "</table>\n",
       "</div>"
      ]
     },
     "execution_count": 10,
     "metadata": {},
     "output_type": "execute_result"
    }
   ],
   "execution_count": 10
  },
  {
   "metadata": {
    "ExecuteTime": {
     "end_time": "2025-10-11T08:32:43.550210Z",
     "start_time": "2025-10-11T08:32:43.547862Z"
    }
   },
   "cell_type": "code",
   "source": [
    "if not conflicts:\n",
    "    print('No conflicts - Each (non-terminal, lookahead) pair maps to only 1 production')\n",
    "else:\n",
    "    print('Conflicts found')\n",
    "    for nt, term, rule1, rule2 in conflicts:\n",
    "        print(f'  M[{nt}, {term}] has multiple entries:')\n",
    "        print(f'- {rule1}')\n",
    "        print(f'- {rule2}')"
   ],
   "id": "d1bb662e1cc7752",
   "outputs": [
    {
     "name": "stdout",
     "output_type": "stream",
     "text": [
      "No conflicts - Each (non-terminal, lookahead) pair maps to only 1 production\n"
     ]
    }
   ],
   "execution_count": 11
  },
  {
   "metadata": {},
   "cell_type": "markdown",
   "source": [
    "### Grammar Properties\n",
    "* **Unambiguous:** Each syntactically valid MiniLisp expression has only one parse tree.\n",
    "* **Left-factored:** By using `<paren-expr>` inside parentheses, the grammar avoids having multiple productions that begin with `'('`.\n",
    "* **If expanded directly:**\n",
    "  Writing `<expr> ::= NUMBER | IDENTIFIER | '(' <expr> ')' | '(' '+' <expr> <expr> ')' | ...`\n",
    "  would cause FIRST/FIRST conflicts for `'('`, breaking LL(1) compatibility."
   ],
   "id": "e3cbec25c4690219"
  }
 ],
 "metadata": {
  "kernelspec": {
   "display_name": "Python 3",
   "language": "python",
   "name": "python3"
  },
  "language_info": {
   "codemirror_mode": {
    "name": "ipython",
    "version": 2
   },
   "file_extension": ".py",
   "mimetype": "text/x-python",
   "name": "python",
   "nbconvert_exporter": "python",
   "pygments_lexer": "ipython2",
   "version": "2.7.6"
  }
 },
 "nbformat": 4,
 "nbformat_minor": 5
}
