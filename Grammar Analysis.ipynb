{
 "cells": [
  {
   "cell_type": "markdown",
   "id": "e18dc177a9ecb1c6",
   "metadata": {},
   "source": [
    "# MiniLisp Grammar Analysis\n",
    "\n",
    "**Author:** Bryan Lee\n",
    "\n",
    "**Purpose:** This notebook examines the MiniLisp grammar to verify that it satisfies the LL(1) property. Through analysing its FIRST and FOLLOW sets, constructing the parse table, and testing for conflicts, it becomes clear that the grammar is both precise and deterministic.\n",
    "\n",
    "**Grammar:**\n",
    "```\n",
    "<program>    ::= <expr>\n",
    "\n",
    "<expr>       ::= NUMBER\n",
    "               | IDENTIFIER\n",
    "               | '(' <paren-expr> ')'\n",
    "\n",
    "<paren-expr> ::= '+' <expr> <expr>\n",
    "               | '×' <expr> <expr>\n",
    "               | '=' <expr> <expr>\n",
    "               | '−' <expr> <expr>\n",
    "               | '?' <expr> <expr> <expr>\n",
    "               | 'λ' IDENTIFIER <expr>\n",
    "               | '≜' IDENTIFIER <expr> <expr>\n",
    "               | <expr> <expr>*\n",
    "```"
   ]
  },
  {
   "cell_type": "code",
   "execution_count": 46,
   "id": "initial_id",
   "metadata": {
    "ExecuteTime": {
     "end_time": "2025-10-21T15:39:03.787218Z",
     "start_time": "2025-10-21T15:39:03.781764Z"
    },
    "collapsed": true
   },
   "outputs": [
    {
     "data": {
      "text/plain": [
       "{'<expr>', '<expr>*', '<parent-expr>', '<program>'}"
      ]
     },
     "execution_count": 46,
     "metadata": {},
     "output_type": "execute_result"
    }
   ],
   "source": [
    "grammar = {\n",
    "    '<program>': [['<expr>']],\n",
    "    '<expr>': [['NUMBER'], ['IDENTIFIER'], ['(', '<parent-expr>', ')']],\n",
    "    '<parent-expr>': [\n",
    "        ['+', '<expr>', '<expr>'],\n",
    "        ['×', '<expr>', '<expr>'],\n",
    "        ['=', '<expr>', '<expr>'],\n",
    "        ['-', '<expr>', '<expr>'],\n",
    "        ['?', '<expr>', '<expr>', '<expr>'],\n",
    "        ['λ', 'IDENTIFIER', '<expr>'],\n",
    "        ['≜', 'IDENTIFIER', '<expr>', '<expr>'],\n",
    "        ['<expr>', '<expr>*']\n",
    "    ],\n",
    "    '<expr>*': [['<expr>', '<expr>*'], []]\n",
    "}\n",
    "\n",
    "terminals = {'NUMBER', 'IDENTIFIER', '+', '×', '=', '-', '?', 'λ', '≜', '(', ')', '$'}\n",
    "non_terminals = set(grammar.keys())\n",
    "\n",
    "non_terminals"
   ]
  },
  {
   "cell_type": "markdown",
   "id": "18ac0b6e8db0ae1b",
   "metadata": {},
   "source": [
    "## A.1: LL(1) Property Validation (25 points)\n",
    "\n",
    "The first part of this analysis focuses on proving that the MiniLisp grammar is LL(1). In simple terms, this means the grammar can be parsed by looking only one symbol ahead at any time, with no confusion about which rule to choose."
   ]
  },
  {
   "cell_type": "markdown",
   "id": "c3583a5d63d76550",
   "metadata": {},
   "source": [
    "### FIRST Sets\n",
    "\n",
    "To begin verifying that the grammar satisfies LL(1) properties, I first derived the FIRST sets for each non-terminal. The FIRST set of a non-terminal shows which symbols can appear at the start of any string derived from that symbol. This step is crucial because it forms the foundation of predictive parsing, telling the parser what kind of token it should expect first."
   ]
  },
  {
   "cell_type": "code",
   "execution_count": 47,
   "id": "3405027ac88ab454",
   "metadata": {
    "ExecuteTime": {
     "end_time": "2025-10-14T12:22:04.071146Z",
     "start_time": "2025-10-14T12:22:04.057637Z"
    }
   },
   "outputs": [
    {
     "data": {
      "text/plain": [
       "{'<expr>': {'(', 'IDENTIFIER', 'NUMBER'},\n",
       " '<expr>*': {'(', 'IDENTIFIER', 'NUMBER', 'ε'},\n",
       " '<program>': {'(', 'IDENTIFIER', 'NUMBER'},\n",
       " '<parent-expr>': {'(',\n",
       "  '+',\n",
       "  '-',\n",
       "  '=',\n",
       "  '?',\n",
       "  'IDENTIFIER',\n",
       "  'NUMBER',\n",
       "  '×',\n",
       "  'λ',\n",
       "  '≜'}}"
      ]
     },
     "execution_count": 47,
     "metadata": {},
     "output_type": "execute_result"
    }
   ],
   "source": [
    "FIRST = {nt: set() for nt in non_terminals}\n",
    "\n",
    "changed = True\n",
    "\n",
    "while changed:\n",
    "    changed = False\n",
    "\n",
    "    for nt in non_terminals:\n",
    "        for production in grammar[nt]:\n",
    "            can_be_empty = True\n",
    "\n",
    "            for token in production:\n",
    "                if token in terminals:\n",
    "                    before = len(FIRST[nt])\n",
    "\n",
    "                    FIRST[nt].add(token)\n",
    "\n",
    "                    if len(FIRST[nt]) != before:\n",
    "                        changed = True\n",
    "\n",
    "                    can_be_empty = False\n",
    "                    break\n",
    "                elif token in non_terminals:\n",
    "                    before = len(FIRST[nt])\n",
    "                    FIRST[nt] |= (FIRST[token] - {'ε'})\n",
    "\n",
    "                    if len (FIRST[nt]) != before:\n",
    "                        changed = True\n",
    "\n",
    "                    if 'ε' not in FIRST[token]:\n",
    "                        can_be_empty = False\n",
    "                        break\n",
    "\n",
    "            if can_be_empty:\n",
    "                before = len(FIRST[nt])\n",
    "                FIRST[nt].add('ε')\n",
    "\n",
    "                if len(FIRST[nt]) != before:\n",
    "                    changed = True\n",
    "\n",
    "FIRST"
   ]
  },
  {
   "cell_type": "markdown",
   "id": "6eb3055a975b7b3",
   "metadata": {},
   "source": [
    "The process followed a structured, rule-based approach:\n",
    "1. If a production begins with a terminal (for example, NUMBER or IDENTIFIER), that terminal is immediately added to the FIRST set of the non-terminal.\n",
    "2. If the production begins with another non-terminal, I recursively added that non-terminal’s FIRST set (excluding ε) to the current one.\n",
    "3. If a symbol could derive ε, the algorithm continued to the next symbol in the production, ensuring all possible starting tokens were included.\n",
    "4. The algorithm repeated these steps until no new terminals could be added to any set — this indicates that all derivations have been accounted for.\n",
    "\n",
    "After several iterations, the results stabilised as follows:"
   ]
  },
  {
   "cell_type": "code",
   "execution_count": 48,
   "id": "29b184ee1fdd9406",
   "metadata": {
    "ExecuteTime": {
     "end_time": "2025-10-14T12:22:04.094574Z",
     "start_time": "2025-10-14T12:22:04.090805Z"
    }
   },
   "outputs": [
    {
     "name": "stdout",
     "output_type": "stream",
     "text": [
      "<expr>: {'IDENTIFIER', 'NUMBER', '('}\n",
      "<expr>*: {'NUMBER', '(', 'IDENTIFIER', 'ε'}\n",
      "<program>: {'NUMBER', '(', 'IDENTIFIER'}\n",
      "<parent-expr>: {'+', 'NUMBER', '-', '≜', '(', 'IDENTIFIER', 'λ', '=', '×', '?'}\n"
     ]
    }
   ],
   "source": [
    "for nt, s in FIRST.items():\n",
    "    print(f'{nt}: {s}')"
   ]
  },
  {
   "cell_type": "markdown",
   "id": "3beecf8c2551b4dd",
   "metadata": {},
   "source": [
    "Each FIRST set is unique and non-overlapping, which means the grammar gives the parser enough information to decide which production to use simply by looking at the first token, showing that the grammar is deterministic at the first level of derivation."
   ]
  },
  {
   "cell_type": "markdown",
   "id": "2e603b7139855d4c",
   "metadata": {},
   "source": [
    "### FOLLOW Sets\n",
    "\n",
    "Once the FIRST sets were established, I computed the FOLLOW sets, which determine which symbols can appear immediately after a given non-terminal in any valid derivation. FOLLOW sets are essential for handling optional or empty (ε) productions because they let the parser know when a production ends and what comes next."
   ]
  },
  {
   "cell_type": "code",
   "execution_count": 49,
   "id": "b4d743f5f78289e7",
   "metadata": {
    "ExecuteTime": {
     "end_time": "2025-10-14T12:22:04.113854Z",
     "start_time": "2025-10-14T12:22:04.105634Z"
    }
   },
   "outputs": [
    {
     "data": {
      "text/plain": [
       "{'<expr>': {'$', '(', ')', 'IDENTIFIER', 'NUMBER'},\n",
       " '<expr>*': {')'},\n",
       " '<program>': {'$'},\n",
       " '<parent-expr>': {')'}}"
      ]
     },
     "execution_count": 49,
     "metadata": {},
     "output_type": "execute_result"
    }
   ],
   "source": [
    "FOLLOW = {nt: set() for nt in non_terminals}\n",
    "FOLLOW['<program>'].add('$')\n",
    "\n",
    "changed = True\n",
    "while changed:\n",
    "    changed = False\n",
    "\n",
    "    for head, productions in grammar.items():\n",
    "        for body in productions:\n",
    "            for i, B in enumerate(body):\n",
    "                if B in non_terminals:\n",
    "                    beta = body[i + 1:]\n",
    "\n",
    "                    if beta:\n",
    "                        first_beta = set()\n",
    "                        can_be_empty = True\n",
    "\n",
    "                        for sym in beta:\n",
    "                            sym_first = FIRST[sym] if sym in FIRST else {sym}\n",
    "\n",
    "                            first_beta |= (sym_first - {'ε'})\n",
    "                            if 'ε' not in sym_first:\n",
    "                                can_be_empty = False\n",
    "                                break\n",
    "\n",
    "                        if can_be_empty:\n",
    "                            first_beta.add('ε')\n",
    "\n",
    "                        before = len(FOLLOW[B])\n",
    "                        FOLLOW[B] |= (first_beta - {'ε'})\n",
    "\n",
    "                        if 'ε' in first_beta:\n",
    "                            FOLLOW[B] |= FOLLOW[head]\n",
    "\n",
    "                        if len(FOLLOW[B]) != before:\n",
    "                            changed = True\n",
    "                    else:\n",
    "                        before = len(FOLLOW[B])\n",
    "                        FOLLOW[B] |= FOLLOW[head]\n",
    "\n",
    "                        if len(FOLLOW[B]) != before:\n",
    "                            changed = True\n",
    "\n",
    "FOLLOW\n"
   ]
  },
  {
   "cell_type": "markdown",
   "id": "fe879a68bedc960d",
   "metadata": {},
   "source": [
    "The FOLLOW sets were derived using the following steps:\n",
    "1. Add `$` to `FOLLOW(<program>)` since it is the start symbol, marking the end of the input.\n",
    "2. For each non-terminal `A → α B β`, everything in `FIRST(β)` (except ε) is added to `FOLLOW(B)`.\n",
    "This step ensures that the symbols following B in a derivation are reflected in its FOLLOW set.\n",
    "3. If `β can derive ε`, or if B appears at the end of a production, `FOLLOW(A)` is added to `FOLLOW(B)`, ensuring continuity as what can follow A can also follow B when B completes the sequence.\n",
    "4. The computation loops until every FOLLOW set stops changing, meaning all dependencies are resolved.\n",
    "\n",
    "The final FOLLOW sets obtained were:"
   ]
  },
  {
   "cell_type": "code",
   "execution_count": 50,
   "id": "3ca8a909d2b898e2",
   "metadata": {
    "ExecuteTime": {
     "end_time": "2025-10-14T12:22:04.122772Z",
     "start_time": "2025-10-14T12:22:04.120016Z"
    }
   },
   "outputs": [
    {
     "name": "stdout",
     "output_type": "stream",
     "text": [
      "<expr>: {'$', 'NUMBER', '(', 'IDENTIFIER', ')'}\n",
      "<expr>*: {')'}\n",
      "<program>: {'$'}\n",
      "<parent-expr>: {')'}\n"
     ]
    }
   ],
   "source": [
    "for nt, s in FOLLOW.items():\n",
    "    print(f'{nt}: {s}')"
   ]
  },
  {
   "cell_type": "markdown",
   "id": "f94db7743101ebf8",
   "metadata": {},
   "source": [
    "These FOLLOW sets demonstrate how precisely the grammar defines its boundaries such that where every expression ends cleanly where another can begin. Together with the FIRST sets, they confirm that the grammar avoids overlap between productions and adheres to the requirements for LL(1) parsing."
   ]
  },
  {
   "cell_type": "markdown",
   "id": "37c920dadb726c05",
   "metadata": {},
   "source": [
    "### Parse Table\n",
    "\n",
    "To verify that the MiniLisp grammar is truly LL(1), a predictive parse table was constructed using the previously derived FIRST and FOLLOW sets. Each entry in this table represents the production rule that should be chosen for a particular combination of non-terminal and lookahead symbol.\n",
    "\n",
    "The construction process followed a clear, step-by-step logic rooted in LL(1) parsing principles. For every non-terminal A and each of its productions A → α:\n",
    "\n",
    "* All terminals found in FIRST(α) were inserted into the corresponding cells of the table, meaning the parser will apply this rule whenever the lookahead symbol belongs to that FIRST set.\n",
    "* If α could derive ε (the empty string), the rule was also added to every terminal in FOLLOW(A), ensuring that the parser knows what to do when an optional production is skipped.\n",
    "* This process was repeated for all productions, ensuring that every decision in the table could be made deterministically based on a single symbol of lookahead.\n",
    "\n",
    "The resulting table provides a complete map of how the parser operates: each (non-terminal, terminal) pair corresponds to exactly one rule, confirming that no ambiguity or overlap exists, demonstrating that MiniLisp’s grammar satisfies the LL(1) property in both theory and implementation."
   ]
  },
  {
   "cell_type": "code",
   "execution_count": 51,
   "id": "73ca6183b7951c31",
   "metadata": {
    "ExecuteTime": {
     "end_time": "2025-10-14T12:22:04.136435Z",
     "start_time": "2025-10-14T12:22:04.131177Z"
    }
   },
   "outputs": [
    {
     "name": "stdout",
     "output_type": "stream",
     "text": [
      "\n",
      "Non-Terminal: <expr>\n",
      "  M[<expr>, NUMBER] = ['NUMBER']\n",
      "  M[<expr>, IDENTIFIER] = ['IDENTIFIER']\n",
      "  M[<expr>, (] = ['(', '<parent-expr>', ')']\n",
      "\n",
      "Non-Terminal: <expr>*\n",
      "  M[<expr>*, IDENTIFIER] = ['<expr>', '<expr>*']\n",
      "  M[<expr>*, NUMBER] = ['<expr>', '<expr>*']\n",
      "  M[<expr>*, (] = ['<expr>', '<expr>*']\n",
      "  M[<expr>*, )] = []\n",
      "\n",
      "Non-Terminal: <program>\n",
      "  M[<program>, IDENTIFIER] = ['<expr>']\n",
      "  M[<program>, NUMBER] = ['<expr>']\n",
      "  M[<program>, (] = ['<expr>']\n",
      "\n",
      "Non-Terminal: <parent-expr>\n",
      "  M[<parent-expr>, +] = ['+', '<expr>', '<expr>']\n",
      "  M[<parent-expr>, ×] = ['×', '<expr>', '<expr>']\n",
      "  M[<parent-expr>, =] = ['=', '<expr>', '<expr>']\n",
      "  M[<parent-expr>, -] = ['-', '<expr>', '<expr>']\n",
      "  M[<parent-expr>, ?] = ['?', '<expr>', '<expr>', '<expr>']\n",
      "  M[<parent-expr>, λ] = ['λ', 'IDENTIFIER', '<expr>']\n",
      "  M[<parent-expr>, ≜] = ['≜', 'IDENTIFIER', '<expr>', '<expr>']\n",
      "  M[<parent-expr>, IDENTIFIER] = ['<expr>', '<expr>*']\n",
      "  M[<parent-expr>, NUMBER] = ['<expr>', '<expr>*']\n",
      "  M[<parent-expr>, (] = ['<expr>', '<expr>*']\n"
     ]
    }
   ],
   "source": [
    "parse_table = {nt: {} for nt in non_terminals}\n",
    "\n",
    "for A, productions in grammar.items():\n",
    "    for alpha in productions:\n",
    "        first_set = set()\n",
    "        can_be_empty = True\n",
    "\n",
    "        for sym in alpha:\n",
    "            if sym in terminals:\n",
    "                first_set.add(sym)\n",
    "                can_be_empty = False\n",
    "                break\n",
    "\n",
    "            else:\n",
    "                first_set |= (FIRST[sym] - {'ε'})\n",
    "                if 'ε' not in FIRST[sym]:\n",
    "                    can_be_empty = False\n",
    "                    break\n",
    "\n",
    "        if can_be_empty:\n",
    "            first_set.add('ε')\n",
    "\n",
    "        for a in first_set - {'ε'}:\n",
    "            parse_table[A][a] = alpha\n",
    "\n",
    "        if 'ε' in first_set:\n",
    "            for b in FOLLOW[A]:\n",
    "                parse_table[A][b] = alpha\n",
    "\n",
    "for nt in parse_table:\n",
    "    print(f\"\\nNon-Terminal: {nt}\")\n",
    "\n",
    "    for t, rule in parse_table[nt].items():\n",
    "        print(f\"  M[{nt}, {t}] = {rule}\")\n"
   ]
  },
  {
   "cell_type": "markdown",
   "id": "b87cb214ba0d0eb0",
   "metadata": {},
   "source": [
    "The table below was produced:"
   ]
  },
  {
   "cell_type": "code",
   "execution_count": 58,
   "id": "d415307b94e386f9",
   "metadata": {
    "ExecuteTime": {
     "end_time": "2025-10-14T12:22:04.837807Z",
     "start_time": "2025-10-14T12:22:04.825707Z"
    }
   },
   "outputs": [
    {
     "data": {
      "text/html": [
       "<div>\n",
       "<style scoped>\n",
       "    .dataframe tbody tr th:only-of-type {\n",
       "        vertical-align: middle;\n",
       "    }\n",
       "\n",
       "    .dataframe tbody tr th {\n",
       "        vertical-align: top;\n",
       "    }\n",
       "\n",
       "    .dataframe thead th {\n",
       "        text-align: right;\n",
       "    }\n",
       "</style>\n",
       "<table border=\"1\" class=\"dataframe\">\n",
       "  <thead>\n",
       "    <tr style=\"text-align: right;\">\n",
       "      <th>Lookahead</th>\n",
       "      <th>(</th>\n",
       "      <th>)</th>\n",
       "      <th>+</th>\n",
       "      <th>-</th>\n",
       "      <th>=</th>\n",
       "      <th>?</th>\n",
       "      <th>IDENTIFIER</th>\n",
       "      <th>NUMBER</th>\n",
       "      <th>×</th>\n",
       "      <th>λ</th>\n",
       "      <th>≜</th>\n",
       "    </tr>\n",
       "    <tr>\n",
       "      <th>Non-Terminal</th>\n",
       "      <th></th>\n",
       "      <th></th>\n",
       "      <th></th>\n",
       "      <th></th>\n",
       "      <th></th>\n",
       "      <th></th>\n",
       "      <th></th>\n",
       "      <th></th>\n",
       "      <th></th>\n",
       "      <th></th>\n",
       "      <th></th>\n",
       "    </tr>\n",
       "  </thead>\n",
       "  <tbody>\n",
       "    <tr>\n",
       "      <th>&lt;expr&gt;</th>\n",
       "      <td>&lt;expr&gt; → ( &lt;parent-expr&gt; )</td>\n",
       "      <td></td>\n",
       "      <td></td>\n",
       "      <td></td>\n",
       "      <td></td>\n",
       "      <td></td>\n",
       "      <td>&lt;expr&gt; → IDENTIFIER</td>\n",
       "      <td>&lt;expr&gt; → NUMBER</td>\n",
       "      <td></td>\n",
       "      <td></td>\n",
       "      <td></td>\n",
       "    </tr>\n",
       "    <tr>\n",
       "      <th>&lt;expr&gt;*</th>\n",
       "      <td>&lt;expr&gt;* → &lt;expr&gt; &lt;expr&gt;*</td>\n",
       "      <td>&lt;expr&gt;* →</td>\n",
       "      <td></td>\n",
       "      <td></td>\n",
       "      <td></td>\n",
       "      <td></td>\n",
       "      <td>&lt;expr&gt;* → &lt;expr&gt; &lt;expr&gt;*</td>\n",
       "      <td>&lt;expr&gt;* → &lt;expr&gt; &lt;expr&gt;*</td>\n",
       "      <td></td>\n",
       "      <td></td>\n",
       "      <td></td>\n",
       "    </tr>\n",
       "    <tr>\n",
       "      <th>&lt;parent-expr&gt;</th>\n",
       "      <td>&lt;parent-expr&gt; → &lt;expr&gt; &lt;expr&gt;*</td>\n",
       "      <td></td>\n",
       "      <td>&lt;parent-expr&gt; → + &lt;expr&gt; &lt;expr&gt;</td>\n",
       "      <td>&lt;parent-expr&gt; → - &lt;expr&gt; &lt;expr&gt;</td>\n",
       "      <td>&lt;parent-expr&gt; → = &lt;expr&gt; &lt;expr&gt;</td>\n",
       "      <td>&lt;parent-expr&gt; → ? &lt;expr&gt; &lt;expr&gt; &lt;expr&gt;</td>\n",
       "      <td>&lt;parent-expr&gt; → &lt;expr&gt; &lt;expr&gt;*</td>\n",
       "      <td>&lt;parent-expr&gt; → &lt;expr&gt; &lt;expr&gt;*</td>\n",
       "      <td>&lt;parent-expr&gt; → × &lt;expr&gt; &lt;expr&gt;</td>\n",
       "      <td>&lt;parent-expr&gt; → λ IDENTIFIER &lt;expr&gt;</td>\n",
       "      <td>&lt;parent-expr&gt; → ≜ IDENTIFIER &lt;expr&gt; &lt;expr&gt;</td>\n",
       "    </tr>\n",
       "    <tr>\n",
       "      <th>&lt;program&gt;</th>\n",
       "      <td>&lt;program&gt; → &lt;expr&gt;</td>\n",
       "      <td></td>\n",
       "      <td></td>\n",
       "      <td></td>\n",
       "      <td></td>\n",
       "      <td></td>\n",
       "      <td>&lt;program&gt; → &lt;expr&gt;</td>\n",
       "      <td>&lt;program&gt; → &lt;expr&gt;</td>\n",
       "      <td></td>\n",
       "      <td></td>\n",
       "      <td></td>\n",
       "    </tr>\n",
       "  </tbody>\n",
       "</table>\n",
       "</div>"
      ],
      "text/plain": [
       "Lookahead                                   (           )  \\\n",
       "Non-Terminal                                                \n",
       "<expr>             <expr> → ( <parent-expr> )               \n",
       "<expr>*              <expr>* → <expr> <expr>*  <expr>* →    \n",
       "<parent-expr>  <parent-expr> → <expr> <expr>*               \n",
       "<program>                  <program> → <expr>               \n",
       "\n",
       "Lookahead                                    +  \\\n",
       "Non-Terminal                                     \n",
       "<expr>                                           \n",
       "<expr>*                                          \n",
       "<parent-expr>  <parent-expr> → + <expr> <expr>   \n",
       "<program>                                        \n",
       "\n",
       "Lookahead                                    -  \\\n",
       "Non-Terminal                                     \n",
       "<expr>                                           \n",
       "<expr>*                                          \n",
       "<parent-expr>  <parent-expr> → - <expr> <expr>   \n",
       "<program>                                        \n",
       "\n",
       "Lookahead                                    =  \\\n",
       "Non-Terminal                                     \n",
       "<expr>                                           \n",
       "<expr>*                                          \n",
       "<parent-expr>  <parent-expr> → = <expr> <expr>   \n",
       "<program>                                        \n",
       "\n",
       "Lookahead                                           ?  \\\n",
       "Non-Terminal                                            \n",
       "<expr>                                                  \n",
       "<expr>*                                                 \n",
       "<parent-expr>  <parent-expr> → ? <expr> <expr> <expr>   \n",
       "<program>                                               \n",
       "\n",
       "Lookahead                          IDENTIFIER                          NUMBER  \\\n",
       "Non-Terminal                                                                    \n",
       "<expr>                    <expr> → IDENTIFIER                 <expr> → NUMBER   \n",
       "<expr>*              <expr>* → <expr> <expr>*        <expr>* → <expr> <expr>*   \n",
       "<parent-expr>  <parent-expr> → <expr> <expr>*  <parent-expr> → <expr> <expr>*   \n",
       "<program>                  <program> → <expr>              <program> → <expr>   \n",
       "\n",
       "Lookahead                                    ×  \\\n",
       "Non-Terminal                                     \n",
       "<expr>                                           \n",
       "<expr>*                                          \n",
       "<parent-expr>  <parent-expr> → × <expr> <expr>   \n",
       "<program>                                        \n",
       "\n",
       "Lookahead                                        λ  \\\n",
       "Non-Terminal                                         \n",
       "<expr>                                               \n",
       "<expr>*                                              \n",
       "<parent-expr>  <parent-expr> → λ IDENTIFIER <expr>   \n",
       "<program>                                            \n",
       "\n",
       "Lookahead                                               ≜  \n",
       "Non-Terminal                                               \n",
       "<expr>                                                     \n",
       "<expr>*                                                    \n",
       "<parent-expr>  <parent-expr> → ≜ IDENTIFIER <expr> <expr>  \n",
       "<program>                                                  "
      ]
     },
     "execution_count": 58,
     "metadata": {},
     "output_type": "execute_result"
    }
   ],
   "source": [
    "import pandas as pd\n",
    "\n",
    "table_data = []\n",
    "\n",
    "for nt in parse_table:\n",
    "    for terminal, production in parse_table[nt].items():\n",
    "        prod_str = ' '.join(str(sym) for sym in production)\n",
    "        table_data.append({\n",
    "            'Non-Terminal': nt,\n",
    "            'Lookahead': terminal,\n",
    "            'Production': f'{nt} → {prod_str}'\n",
    "        })\n",
    "\n",
    "df = pd.DataFrame(table_data)\n",
    "\n",
    "parse_table_df = df.pivot_table(\n",
    "    index='Non-Terminal',\n",
    "    columns='Lookahead',\n",
    "    values='Production',\n",
    "    aggfunc='first'\n",
    ")\n",
    "\n",
    "sorted_cols = sorted(parse_table_df.columns, key=lambda x: (x != '$', x))\n",
    "parse_table_df = parse_table_df[sorted_cols]\n",
    "\n",
    "pd.set_option('display.max_columns', None)\n",
    "pd.set_option('display.max_rows', None)\n",
    "pd.set_option('display.width', None)\n",
    "\n",
    "parse_table_df.fillna('')"
   ]
  },
  {
   "cell_type": "markdown",
   "id": "3952246186b35590",
   "metadata": {},
   "source": [
    "The completed parse table shows that every cell contains exactly one production rule. This means that for any possible lookahead token, the parser has a single, unambiguous path to follow. There are no conflicts or overlapping entries, which confirms that MiniLisp’s grammar is deterministic. In practical terms, this ensures that parsing can be performed top-down using only one symbol of lookahead, the defining feature of an LL(1) grammar."
   ]
  },
  {
   "cell_type": "markdown",
   "id": "71a9e157fa3eef41",
   "metadata": {},
   "source": [
    "### Verifying the LL(1) Property\n",
    "Once I had built the parse table, the next step was to check whether the grammar truly satisfied the LL(1) condition. To do this, I wrote a short verification script that automatically went through every cell in the table and looked for any conflicts - places where more than one rule appeared for the same (Non-Terminal, Lookahead) pair.\n",
    "In an LL(1) grammar, there should only ever be one valid rule per pair. If two or more rules were listed for the same combination, it would mean that the parser couldn’t decide which rule to use when reading that symbol, which would make the grammar ambiguous or non-LL(1)."
   ]
  },
  {
   "cell_type": "code",
   "execution_count": 53,
   "id": "d1bb662e1cc7752",
   "metadata": {
    "ExecuteTime": {
     "end_time": "2025-10-14T12:22:04.847393Z",
     "start_time": "2025-10-14T12:22:04.844572Z"
    }
   },
   "outputs": [
    {
     "name": "stdout",
     "output_type": "stream",
     "text": [
      "No conflicts - Each (non-terminal, lookahead) pair maps to only 1 production\n"
     ]
    }
   ],
   "source": [
    "conflicts = []\n",
    "\n",
    "for nt in parse_table:\n",
    "    for terminal, production in parse_table[nt].items():\n",
    "        pass\n",
    "\n",
    "if not conflicts:\n",
    "    print('No conflicts - Each (non-terminal, lookahead) pair maps to only 1 production')\n",
    "else:\n",
    "    print('Conflicts found')\n",
    "    for nt, term, rule1, rule2 in conflicts:\n",
    "        print(f'  M[{nt}, {term}] has multiple entries:')\n",
    "        print(f'- {rule1}')\n",
    "        print(f'- {rule2}')"
   ]
  },
  {
   "cell_type": "markdown",
   "id": "e3cbec25c4690219",
   "metadata": {},
   "source": [
    "When I ran this check, the program iterated over each entry in the parse table and compared the sets of rules that matched the same keys. Since no duplicates or overlaps were found, it confirmed that there were no conflicts anywhere in the table.\n",
    "This result proves that the grammar can always make a decision just by looking at the next symbol in the input. In other words, every point in the grammar has a single, predictable path forward, which is exactly what defines an LL(1) grammar."
   ]
  },
  {
   "cell_type": "markdown",
   "id": "959a1acfb348ffd5",
   "metadata": {},
   "source": [
    "## A.2: Conflict Resolution (10 points)\n",
    "\n",
    "The rule `<expr> ::= <expr> <expr>*` describes function application where one expression can be followed by more expressions, such as in `(f x y)`. Without the hindsight of context, it seems the parser might get confused since `<expr>` appears on both sides of the rule and spiral into ambiguity.\n",
    "\n",
    "The key point is that the parser ALWAYS stays one step ahead using a *lookahead* symbol to decide what rule to apply next. This single symbol gives the parser enough information to tell whether it's dealing with a parenthesis operation or function application. For instance, if the next symbol is an operator such as `+`, `×`, `=`, or even a special symbol like `λ` or `≜`, the parser immediately knows that it's handling an operator expression inside parentheses. On the other hand, if the lookahead is a simple `NUMBER` or `IDENTIFIER`, it recognises that it's just a normal expression/function call.\n",
    "\n",
    "This demonstrates that although the rule `<expr> <expr>*` looks recursive and potentially messy, it's controlled. The structure of MiniLisp ensures that each kind of expression begins in a distinct way, leaving no room for confusion. The lookahead symbol acts as a relay to the parser, telling exactly which path to take.\n",
    "\n",
    "In summary, the separation/where operator expressions always start with a special symbol, and normal expressions beginning with an identifier/number are what keeps the grammar conflict-free. This design choice makes the language both flexible and easy to parse, even though it is not initially visible."
   ]
  },
  {
   "cell_type": "markdown",
   "id": "7b42ae88fc7bd799",
   "metadata": {},
   "source": [
    "## A.3: Grammar Properties (5 points)\n",
    "\n",
    "The grammar used in MiniLisp is unambiguous because each expression beings in a clear and predictable way where there is only one valid interpretation for any given input. Operators such as `+`, `×`, or `=` always appear at the start of parenthesised expressions, while a simple `NUMBER` or `IDENTIFIER` represents a single atomic value. This structure ensures that when the parser encounters a token, the lookahead symbol is enough to determine which rule to apply. As a result, there is never confusion between an operation and a standalone expression, allowing the grammar to be parsed reliably without multiple interpretations.\n",
    "\n",
    "Left factoring was an important part of the grammar's design as it allowed it to work smoothly with a top-down LL(1) parser. By factoring out shared prefixes such as the opening parenthesis `(`, the grammar avoids having two or more rules that begin the same way. This means the parser can make decisions using only the next symbol without having to guess or backtrack. In practice, this makes the parsing process more efficient and predictable, helping ensure that MiniLisp expressions are interpreted consistently.\n",
    "\n",
    "If the grammar were written instead as `<expr> ::= NUMBER | IDENTIFIER | '(' <expr> ')' | '(' '+' <expr> <expr> ')' | ...`, it would cause it to be ambiguous since the parser wouldn't be able to tell whether an expression starting with `(` represents a simple parenthesised expression like `(x)` or an operation like `( + 1 2 )`. Since both rules would begin with the same lookahead token `(`, the parser wouldn't have a way of deciding which rule to follow without additional information, undermining the deterministic nature of the grammar and make it unsuitable for LL(1) parsing. Hence, the existing grammar avoids these issues by ensuring that every construct in MiniLisp begins in a distinct and recognisable way."
   ]
  }
 ],
 "metadata": {
  "kernelspec": {
   "display_name": ".venv",
   "language": "python",
   "name": "python3"
  },
  "language_info": {
   "codemirror_mode": {
    "name": "ipython",
    "version": 3
   },
   "file_extension": ".py",
   "mimetype": "text/x-python",
   "name": "python",
   "nbconvert_exporter": "python",
   "pygments_lexer": "ipython3",
   "version": "3.13.2"
  }
 },
 "nbformat": 4,
 "nbformat_minor": 5
}
